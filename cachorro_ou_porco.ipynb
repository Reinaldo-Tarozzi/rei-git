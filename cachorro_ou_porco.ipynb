{
  "nbformat": 4,
  "nbformat_minor": 0,
  "metadata": {
    "colab": {
      "name": "cachorro_ou_porco.ipynb",
      "provenance": [],
      "collapsed_sections": [],
      "authorship_tag": "ABX9TyOJXwS+zaVK1IzeANQ+gUc7",
      "include_colab_link": true
    },
    "kernelspec": {
      "name": "python3",
      "display_name": "Python 3"
    }
  },
  "cells": [
    {
      "cell_type": "markdown",
      "metadata": {
        "id": "view-in-github",
        "colab_type": "text"
      },
      "source": [
        "<a href=\"https://colab.research.google.com/github/Reinaldo-Tarozzi/rei-git/blob/master/cachorro_ou_porco.ipynb\" target=\"_parent\"><img src=\"https://colab.research.google.com/assets/colab-badge.svg\" alt=\"Open In Colab\"/></a>"
      ]
    },
    {
      "cell_type": "code",
      "metadata": {
        "id": "00Rpf9crUdyX",
        "colab_type": "code",
        "colab": {}
      },
      "source": [
        "# Pelo Longo  ? 1\n",
        "# Faz Gunido  ? 1\n",
        "# Perna Curta ? 1\n",
        "# Faz AUAU    ? 1\n",
        "# \n",
        "# Fitch\n",
        "# f([ x, y, z ]) = 0,1\n",
        "\n",
        "porco_1    = [ 0, 1, 0, 0 ]\n",
        "porco_2    = [ 0, 1, 1, 1 ]\n",
        "porco_3    = [ 1, 1, 0, 0 ]\n",
        "\n",
        "cachorro_1 = [ 0, 1, 0, 1 ]\n",
        "cachorro_2 = [ 0, 0, 1, 1 ]\n",
        "cachorro_3 = [ 1, 1, 0, 1 ]\n",
        "\n",
        "treino_x = [ porco_1, porco_2, porco_3, cachorro_1, cachorro_2, cachorro_3 ]\n",
        "treino_y = [ 1, 1, 1, 0, 0, 0 ]   # 0 cachorro   ==>>      1 porco\n"
      ],
      "execution_count": 0,
      "outputs": []
    },
    {
      "cell_type": "code",
      "metadata": {
        "id": "vaJf_HosUfvV",
        "colab_type": "code",
        "colab": {
          "base_uri": "https://localhost:8080/",
          "height": 34
        },
        "outputId": "0a0c7ec6-4242-4b32-dc42-8ef1058ecd8a"
      },
      "source": [
        "from sklearn.svm import LinearSVC\n",
        "modelo = LinearSVC()\n",
        "modelo.fit(treino_x, treino_y)\n",
        "\n",
        "animal_misterioso = [ 1, 1, 0, 0 ]\n",
        "\n",
        "if( animal_misterioso[3] == 1 ):\n",
        "  print( 'Animal Misterioso é um Cachorro')\n",
        "else:\n",
        "  print( 'Animal Misterioso é um Porco')\n",
        "# modelo.predict([ animal_misterioso ])\n"
      ],
      "execution_count": 143,
      "outputs": [
        {
          "output_type": "stream",
          "text": [
            "Animal Misterioso é um Porco\n"
          ],
          "name": "stdout"
        }
      ]
    },
    {
      "cell_type": "code",
      "metadata": {
        "id": "uFSailC-fFAL",
        "colab_type": "code",
        "colab": {
          "base_uri": "https://localhost:8080/",
          "height": 68
        },
        "outputId": "84066f26-9b8c-4900-c4f2-e2f469a2d1f0"
      },
      "source": [
        "misterio_1 = [ 0, 1, 1, 1 ]  # Pelo Curto, Faz Gunido, Perna Curta, Faz AUAU\n",
        "misterio_2 = [ 1, 0, 0, 0 ]  # Pelo Longo, Não Faz, Gunido Perna, Longa Faz AUAU\n",
        "misterio_3 = [ 0, 1, 1, 0 ]  # Pelo Curto, Faz Gunido, Perna Curta, Faz AUAU\n",
        "\n",
        "teste_x = [ misterio_1, misterio_2, misterio_3 ]\n",
        "teste_y = [ 0, 0, 1 ]\n",
        "\n",
        "previsoes = modelo.predict( teste_x )\n",
        "# print(\"Resultado da Pesquisa dos Bixos Misteriosos : ( Cachorro é = 0 ) e ( Porco é = 1\" )\n",
        "if( misterio_1[3] == 1 ):\n",
        "  print( 'Animal Misterioso é um Cachorro')\n",
        "else:\n",
        "  print( 'Animal Misterioso é um Porco')\n",
        "if( misterio_2[3] == 1 ):\n",
        "  print( 'Animal Misterioso é um Cachorro')\n",
        "else:\n",
        "  print( 'Animal Misterioso é um Porco')\n",
        "if( misterio_3[3] == 1 ):\n",
        "  print( 'Animal Misterioso é um Cachorro')\n",
        "else:\n",
        "  print( 'Animal Misterioso é um Porco')  \n",
        "# previsoes"
      ],
      "execution_count": 145,
      "outputs": [
        {
          "output_type": "stream",
          "text": [
            "Animal Misterioso é um Cachorro\n",
            "Animal Misterioso é um Porco\n",
            "Animal Misterioso é um Porco\n"
          ],
          "name": "stdout"
        }
      ]
    },
    {
      "cell_type": "code",
      "metadata": {
        "id": "cdTVt8EsVirR",
        "colab_type": "code",
        "outputId": "d5d493bc-d593-462b-88c2-0d889c658dc1",
        "colab": {
          "base_uri": "https://localhost:8080/",
          "height": 51
        }
      },
      "source": [
        "from sklearn.metrics import accuracy_score\n",
        "print(\"Valor da Porcentagem Referente a Eficiência deste Algoritmo\" )\n",
        "( accuracy_score(teste_y, previsoes) * 100 )"
      ],
      "execution_count": 146,
      "outputs": [
        {
          "output_type": "stream",
          "text": [
            "Valor da Porcentagem Referente a Eficiência deste Algoritmo\n"
          ],
          "name": "stdout"
        },
        {
          "output_type": "execute_result",
          "data": {
            "text/plain": [
              "66.66666666666666"
            ]
          },
          "metadata": {
            "tags": []
          },
          "execution_count": 146
        }
      ]
    }
  ]
}