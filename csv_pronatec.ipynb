{
  "nbformat": 4,
  "nbformat_minor": 0,
  "metadata": {
    "colab": {
      "name": "csv_pronatec.ipynb",
      "provenance": [],
      "collapsed_sections": [],
      "authorship_tag": "ABX9TyPv2RvQVtxpJ56v8G9fhFNU",
      "include_colab_link": true
    },
    "kernelspec": {
      "name": "python3",
      "display_name": "Python 3"
    }
  },
  "cells": [
    {
      "cell_type": "markdown",
      "metadata": {
        "id": "view-in-github",
        "colab_type": "text"
      },
      "source": [
        "<a href=\"https://colab.research.google.com/github/Reinaldo-Tarozzi/rei-git/blob/master/csv_pronatec.ipynb\" target=\"_parent\"><img src=\"https://colab.research.google.com/assets/colab-badge.svg\" alt=\"Open In Colab\"/></a>"
      ]
    },
    {
      "cell_type": "code",
      "metadata": {
        "id": "F_IQMlDVJuVG",
        "colab_type": "code",
        "colab": {}
      },
      "source": [
        "# Csv Analize de Dados"
      ],
      "execution_count": 0,
      "outputs": []
    },
    {
      "cell_type": "code",
      "metadata": {
        "id": "1eOTmlFmKPRR",
        "colab_type": "code",
        "colab": {}
      },
      "source": [
        "import pandas as pd"
      ],
      "execution_count": 0,
      "outputs": []
    },
    {
      "cell_type": "code",
      "metadata": {
        "id": "I03ZP5obKlJ6",
        "colab_type": "code",
        "colab": {}
      },
      "source": [
        "# dataframe apelido df"
      ],
      "execution_count": 0,
      "outputs": []
    },
    {
      "cell_type": "code",
      "metadata": {
        "id": "wnAJpbihLv8u",
        "colab_type": "code",
        "colab": {}
      },
      "source": [
        "df = pd.read_csv('PDA_Orcamento_EPCT_2019.csv')\n"
      ],
      "execution_count": 0,
      "outputs": []
    }
  ]
}