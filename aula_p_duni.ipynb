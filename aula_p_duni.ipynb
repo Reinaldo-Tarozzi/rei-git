{
  "nbformat": 4,
  "nbformat_minor": 0,
  "metadata": {
    "colab": {
      "name": "aula_p_duni.ipynb",
      "provenance": [],
      "collapsed_sections": [],
      "authorship_tag": "ABX9TyOllQHosX7EJiUk4PzuEMHF",
      "include_colab_link": true
    },
    "kernelspec": {
      "name": "python3",
      "display_name": "Python 3"
    }
  },
  "cells": [
    {
      "cell_type": "markdown",
      "metadata": {
        "id": "view-in-github",
        "colab_type": "text"
      },
      "source": [
        "<a href=\"https://colab.research.google.com/github/Reinaldo-Tarozzi/rei-git/blob/master/aula_p_duni.ipynb\" target=\"_parent\"><img src=\"https://colab.research.google.com/assets/colab-badge.svg\" alt=\"Open In Colab\"/></a>"
      ]
    },
    {
      "cell_type": "code",
      "metadata": {
        "id": "5ljfBXJQs-v7",
        "colab_type": "code",
        "colab": {}
      },
      "source": [
        "# Ângulo_90°_c_Números_Aleatórios\n",
        "\"\"\"\n",
        "=================================================================================\n",
        "\n",
        "# Pegar Valores Aleatorios e Construir um Grafo Commits:( Rede Neural ).\n",
        "\n",
        "# Com Angulo de 90° tendendo ao Infinito.\n",
        "\n",
        "Auxilio de:\n",
        "\n",
        "# Matilab.\n",
        "\n",
        "# Python.\n",
        "\n",
        "# C C++\n",
        "\n",
        "-----------------------------\n",
        "Metodo Matematico Gaussian: - Espressões Gaussianica.\n",
        "-----------------------------\n",
        "\n",
        "=================================================================================\n",
        "\n",
        "log ({[aba^2*^^3]})\n",
        "\n",
        "log {[(bab^3*^^)]}\n",
        "\n",
        "vetor matrix_a\n",
        "vetor matrix_b\n",
        "\n",
        "a = Learning rate [0.1] = { B00001100,\n",
        "                            B00010010,\n",
        "                            B00010010,\n",
        "                            B00001100,\n",
        "                            B00000000,\n",
        "                            B00000000,\n",
        "                            B00000000,\n",
        "                            B00000000, };\n",
        "\n",
        "\n",
        "b = Activation linear [1.1] = { B01100110,\n",
        "                                B11001111,\n",
        "                                B10001111,\n",
        "                                B11000111,\n",
        "                                B10010111,\n",
        "                                B10011011,\n",
        "                                B10110011,\n",
        "                                B10011011, };\n",
        "\n",
        "regularization_None  UB [None] = { B11010111,\n",
        "                                   B11100111,\n",
        "                                   B10101101,\n",
        "                                   B01010100,\n",
        "                                   B01010100,\n",
        "                                   B00111000,\n",
        "                                   B01010100,\n",
        "                                   B00100110, };\n",
        "\n",
        "Regularization_rate  RT[0.1] = { B10011010,\n",
        "                                 B10110011,\n",
        "                                 B10010111,\n",
        "                                 B10110011,\n",
        "                                 B11010011,\n",
        "                                 B10110011,\n",
        "                                 B11010101,\n",
        "                                 B10101011, \n",
        "\n",
        "c = LinearSVC( C = 1.0, class_weight = None, dual = True, fit_intercept = True,\n",
        "          intercept_scaling = 1, loss = 'squared_hinge', max_iter = 1000,\n",
        "          multi_class = 'ovr', penalty = 'l2' ,random_state = None, tol = 0.0001,\n",
        "          verbose = 0 ), Classification      };\n",
        "# EOF\n",
        "\"\"\""
      ],
      "execution_count": 0,
      "outputs": []
    }
  ]
}